{
  "nbformat": 4,
  "nbformat_minor": 0,
  "metadata": {
    "colab": {
      "name": "Eurlex_data_analysis.ipynb",
      "provenance": [],
      "collapsed_sections": [],
      "authorship_tag": "ABX9TyM47m/QW2xbLeXwUUmJyrKj",
      "include_colab_link": true
    },
    "kernelspec": {
      "name": "python3",
      "display_name": "Python 3"
    }
  },
  "cells": [
    {
      "cell_type": "markdown",
      "metadata": {
        "id": "view-in-github",
        "colab_type": "text"
      },
      "source": [
        "<a href=\"https://colab.research.google.com/github/stxupengyu/Milti-Label-Classification-Data-Preprocessing/blob/master/Eurlex_data_analysis.ipynb\" target=\"_parent\"><img src=\"https://colab.research.google.com/assets/colab-badge.svg\" alt=\"Open In Colab\"/></a>"
      ]
    },
    {
      "cell_type": "code",
      "metadata": {
        "id": "sF09dXX6KqV-",
        "outputId": "751c77bc-7679-47d4-c600-89d99edaa983",
        "colab": {
          "base_uri": "https://localhost:8080/",
          "height": 35
        }
      },
      "source": [
        "#挂载云盘 \n",
        "from google.colab import drive\n",
        "drive.mount('/content/drive')"
      ],
      "execution_count": null,
      "outputs": [
        {
          "output_type": "stream",
          "text": [
            "Drive already mounted at /content/drive; to attempt to forcibly remount, call drive.mount(\"/content/drive\", force_remount=True).\n"
          ],
          "name": "stdout"
        }
      ]
    },
    {
      "cell_type": "code",
      "metadata": {
        "id": "tAHQJfA4Krm6",
        "outputId": "2780c2f5-1f9e-4a7c-9086-b7e3261d0326",
        "colab": {
          "base_uri": "https://localhost:8080/",
          "height": 190
        }
      },
      "source": [
        "#进入项目目录\n",
        "print('original document')\n",
        "!ls\n",
        "import os\n",
        "os.chdir('/content/drive/My Drive/colab/XML')\n",
        "print('current document')\n",
        "!ls"
      ],
      "execution_count": null,
      "outputs": [
        {
          "output_type": "stream",
          "text": [
            "original document\n",
            "eurlex\t\t\t    rcv1.topics.hier.orig.txt\n",
            "eurlex_data_analysis.ipynb  rcv_embedding_mean.npz\n",
            "EURLex.py\t\t    rcv_embedding.npz\n",
            "glove\t\t\t    XML-Glove-Embedding.ipynb\n",
            "current document\n",
            "eurlex\t\t\t    rcv1.topics.hier.orig.txt\n",
            "eurlex_data_analysis.ipynb  rcv_embedding_mean.npz\n",
            "EURLex.py\t\t    rcv_embedding.npz\n",
            "glove\t\t\t    XML-Glove-Embedding.ipynb\n"
          ],
          "name": "stdout"
        }
      ]
    },
    {
      "cell_type": "code",
      "metadata": {
        "id": "cpSvpheoKrko",
        "outputId": "258618fb-6bfb-460f-cd66-37cd97ab1dc0",
        "colab": {
          "base_uri": "https://localhost:8080/",
          "height": 35
        }
      },
      "source": [
        "import numpy as np\n",
        "def load_data():\n",
        "  #读取训练集标签数据\n",
        "  file_name='eurlex/3714/eurlex_data_3714.npz'\n",
        "  data=np.load(file_name,allow_pickle=True)\n",
        "  y_train=data['y_train']\n",
        "  print('读取数据集的shape：',y_train.shape)\n",
        "  return y_train\n",
        "def one_hot2value(y_train):\n",
        "  #将训练集标签数据从one-hot转为value\n",
        "  y_yrain_value=[]\n",
        "  for line in y_train:\n",
        "    indices=line.argsort()[-int(sum(line)):] \n",
        "    y_yrain_value.append(indices)\n",
        "    #record_real=[word_to_id_reverse[i+1] for i in real_indices]\n",
        "  return y_yrain_value\n",
        "def combination_2(label_list):\n",
        "  #输入一个列表，输出所有的二元组\n",
        "    record=[]\n",
        "    for index in range(len(label_list)):\n",
        "        for index2 in range(len(label_list)):\n",
        "            if index2>index:\n",
        "                record.append([label_list[index],label_list[index2]])\n",
        "    return record\n",
        "    \n",
        "y_train=load_data()\n",
        "#同时构建两个字典，二元组id和实际单词id的字典，二元组id和其频次的字典,时间略长大概10分钟\n",
        "label_values_list=one_hot2value(y_train)\n",
        "label_cooccurrence_dict={}#构建共现序号-二元组的字典\n",
        "label_cooccurrence_feq_dict={}#构建共现序号-频次的字典\n",
        "count=0\n",
        "for label_values in label_values_list:\n",
        "  for label_value in combination_2(label_values):\n",
        "    if label_value not in label_cooccurrence_dict.values():\n",
        "      label_cooccurrence_dict[count]=label_value\n",
        "      label_cooccurrence_feq_dict[count]=1\n",
        "      count+=1\n",
        "    if label_value in label_cooccurrence_dict.values():\n",
        "      for key in label_cooccurrence_dict.keys():\n",
        "        if label_cooccurrence_dict[key]==label_value:\n",
        "          label_cooccurrence_feq_dict[key]=label_cooccurrence_feq_dict[key]+1\n",
        "print('二元共现组合数量为：%d'%len(label_cooccurrence_dict))"
      ],
      "execution_count": null,
      "outputs": [
        {
          "output_type": "execute_result",
          "data": {
            "text/plain": [
              "(13905, 3714)"
            ]
          },
          "metadata": {
            "tags": []
          },
          "execution_count": 70
        }
      ]
    },
    {
      "cell_type": "code",
      "metadata": {
        "id": "k74bburSRuvc",
        "outputId": "6726165a-1e74-4bb2-e79a-49f8a86906d9",
        "colab": {
          "base_uri": "https://localhost:8080/",
          "height": 390
        }
      },
      "source": [
        "import matplotlib.pyplot as plt\n",
        "%matplotlib inline\n",
        "def feq_sort(label_cooccurrence_feq_dict):\n",
        "  #输入序号-频次字典，输出频次由高到低的序号\n",
        "  label_cooccurrence_feq_list=[]\n",
        "  for key in label_cooccurrence_feq_dict.keys():\n",
        "    label_cooccurrence_feq_list.append(-label_cooccurrence_feq_dict[key])\n",
        "  feq_index=np.array(label_cooccurrence_feq_list).argsort()\n",
        "  return feq_index\n",
        "def feq_show(feq_index):\n",
        "  #展示共现次数的分布 顺便返回一个频次数据\n",
        "  feq_plot=[]\n",
        "  for i in feq_index:\n",
        "    feq_plot.append(label_cooccurrence_feq_dict[i])\n",
        "  plt.figure(figsize=(10,6))\n",
        "  plt.plot(feq_plot)\n",
        "  plt.title('The Co-occurrence freq distribution')\n",
        "  plt.grid()\n",
        "  plt.show()\n",
        "  return feq_plot\n",
        "def index2value(feq_index):\n",
        "  #输入二元组序号的频次排序，输出二元组value（按频次排序）\n",
        "  value_feq_record=[]\n",
        "  for index in feq_index:\n",
        "    value_feq_record.append(label_cooccurrence_dict[index])\n",
        "  return value_feq_record\n",
        "def label_dict_fun():\n",
        "  label_dict={}\n",
        "  count=0\n",
        "  data_path='eurlex/3714/label_vocab.txt'\n",
        "  iFile = open(data_path, \"r\")\n",
        "  for line in iFile.readlines():\n",
        "    lineVec = line.strip().split(\"\\t\")#根据\\t将一行分割\n",
        "    label_i=lineVec[-1]\n",
        "    label_dict[count]=label_i\n",
        "    count+=1\n",
        "  return label_dict\n",
        "def value2words(value_feq_record):\n",
        "  #将二元组value形式转化为二元组word形式---相当于可以看到单词\n",
        "  word_feq_record=[]\n",
        "  for value in value_feq_record:\n",
        "    inst_record=[]\n",
        "    for inst in value:\n",
        "      inst_record.append(label_dict[inst])\n",
        "    word_feq_record.append(inst_record)\n",
        "  return word_feq_record\n",
        "feq_index=feq_sort(label_cooccurrence_feq_dict)\n",
        "feq_record=feq_show(feq_index)\n",
        "value_feq_record=index2value(feq_index)\n",
        "label_dict=label_dict_fun()\n",
        "word_feq_record=value2words(value_feq_record)"
      ],
      "execution_count": null,
      "outputs": [
        {
          "output_type": "display_data",
          "data": {
            "image/png": "[encoded data removed]",
            "text/plain": [
              "<Figure size 720x432 with 1 Axes>"
            ]
          },
          "metadata": {
            "tags": [],
            "needs_background": "light"
          }
        }
      ]
    },
    {
      "cell_type": "code",
      "metadata": {
        "id": "AAR1rh1jjpoi",
        "outputId": "d4a33159-657d-4ad8-e0bf-157140d3228f",
        "colab": {
          "base_uri": "https://localhost:8080/",
          "height": 52
        }
      },
      "source": [
        "import pandas as pd\n",
        "def list2df():\n",
        "  #将刚刚得到的共现二元组的文本和频次汇总，输出为df文件\n",
        "  word_feq_record_array=np.array(word_feq_record)\n",
        "  feq_record_array=np.array(feq_record)\n",
        "  print('二元组的shape和频次的shape：',word_feq_record_array.shape,feq_record_array.shape)\n",
        "  word_feq_record_pd=pd.DataFrame(word_feq_record_array)\n",
        "  word_feq_record_pd['freq']=feq_record_array\n",
        "  return word_feq_record_pd\n",
        "def df2csv():\n",
        "  #进一步将df文件保存为csv\n",
        "  word_feq_record_pd=list2df()\n",
        "  save_file='label_coocurrence_freq.csv'\n",
        "  word_feq_record_pd.to_csv(save_file)\n",
        "  print('已经成功保存%s文件'%save_file)\n",
        "df2csv()"
      ],
      "execution_count": null,
      "outputs": [
        {
          "output_type": "stream",
          "text": [
            "二元组的shape和频次的shape： (84380, 2) (84380,)\n",
            "已经成功保存label_coocurrence_freq.csv文件\n"
          ],
          "name": "stdout"
        }
      ]
    },
    {
      "cell_type": "code",
      "metadata": {
        "id": "mSS09f84oSue"
      },
      "source": [
        ""
      ],
      "execution_count": null,
      "outputs": []
    }
  ]
}